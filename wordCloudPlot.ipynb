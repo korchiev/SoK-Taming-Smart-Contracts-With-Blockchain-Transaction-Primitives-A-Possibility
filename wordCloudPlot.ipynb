{
 "cells": [
  {
   "cell_type": "markdown",
   "metadata": {},
   "source": [
    "# Word Cloud Generation from Text Data using PySpark\n",
    "\n",
    "This notebook demonstrates the process of generating a word cloud from text data, leveraging the capabilities of PySpark and Python libraries. The workflow includes the following key steps:\n",
    "\n",
    "1. **Initialization**: Importing necessary libraries and initializing a Spark session for distributed data processing.\n",
    "2. **Data Processing**: Reading text data into a Spark DataFrame, converting it to an RDD, and performing text processing to count word frequencies.\n",
    "3. **Data Exploration and Cleaning**: Exploring the word frequencies, removing specific unwanted words, and cleaning the dataset for better visualization.\n",
    "4. **Preparation for Visualization**: Filtering and preparing the word frequency data to be suitable for generating a word cloud.\n",
    "5. **Word Cloud Visualization**: Creating a visual representation of word frequencies to highlight the most prominent words in the text data.\n",
    "\n"
   ]
  },
  {
   "cell_type": "code",
   "execution_count": null,
   "metadata": {},
   "outputs": [],
   "source": [
    "from pyspark.sql import SparkSession\n",
    "from wordcloud import WordCloud\n",
    "import matplotlib.pyplot as plt\n",
    "from collections import Counter"
   ]
  },
  {
   "cell_type": "code",
   "execution_count": null,
   "metadata": {},
   "outputs": [],
   "source": [
    "# Initialize Spark session\n",
    "spark = SparkSession.builder.appName(\"word_cloud\").getOrCreate()\n",
    "\n",
    "# Load the CSV file into a Spark DataFrame\n",
    "csv_file_path = 'combinedFiles/all_data.csv'\n",
    "df = spark.read.csv(csv_file_path, header=True, inferSchema=True)"
   ]
  },
  {
   "cell_type": "code",
   "execution_count": null,
   "metadata": {},
   "outputs": [],
   "source": [
    "\n",
    "text_rdd = df.select(\"text_signature\").rdd.flatMap(lambda x: x[0].split(\" \") if x[0] is not None else [])"
   ]
  },
  {
   "cell_type": "code",
   "execution_count": null,
   "metadata": {},
   "outputs": [],
   "source": [
    "# Count the occurrences of each unique word\n",
    "word_frequencies = text_rdd.countByValue()"
   ]
  },
  {
   "cell_type": "code",
   "execution_count": null,
   "metadata": {},
   "outputs": [],
   "source": [
    "len(word_frequencies)"
   ]
  },
  {
   "cell_type": "code",
   "execution_count": null,
   "metadata": {},
   "outputs": [],
   "source": [
    "for key, value in word_frequencies.items():\n",
    "    print(f\"{key}: {value}\")"
   ]
  },
  {
   "cell_type": "code",
   "execution_count": null,
   "metadata": {},
   "outputs": [],
   "source": [
    "sorted_dict = dict(sorted(word_frequencies.items(), key=lambda x: x[1], reverse=True))"
   ]
  },
  {
   "cell_type": "code",
   "execution_count": null,
   "metadata": {},
   "outputs": [],
   "source": [
    "import csv\n",
    "\n",
    "# Specify your CSV file name\n",
    "csv_file = 'sorted_word_freq.csv'\n",
    "\n",
    "# Write to CSV\n",
    "with open(csv_file, mode='w', newline='', encoding='utf-8') as file:\n",
    "    writer = csv.writer(file)\n",
    "    # Write the header\n",
    "    writer.writerow(['Key', 'Value'])\n",
    "\n",
    "    # Write the dictionary data\n",
    "    for key, value in sorted_dict.items():\n",
    "        writer.writerow([key, value])\n",
    "\n",
    "print(f\"Sorted items written to {csv_file}\")"
   ]
  },
  {
   "cell_type": "code",
   "execution_count": null,
   "metadata": {},
   "outputs": [],
   "source": [
    "keys_to_delete = ['transfer', 'unknown', '_SIMONdotBLACK_', 'setApprovalForAll', 'multicall', 'sendMultiSig']"
   ]
  },
  {
   "cell_type": "code",
   "execution_count": null,
   "metadata": {},
   "outputs": [],
   "source": [
    "for key in keys_to_delete:\n",
    "    print(key, sorted_dict[key])"
   ]
  },
  {
   "cell_type": "code",
   "execution_count": null,
   "metadata": {},
   "outputs": [],
   "source": [
    "for key in keys_to_delete:\n",
    "    del sorted_dict[key]"
   ]
  },
  {
   "cell_type": "code",
   "execution_count": null,
   "metadata": {},
   "outputs": [],
   "source": [
    "# Filter dictionary and leve only those key/value pairs that have value > 100\n",
    "filtered_dict = {key: value for key, value in sorted_dict.items() if value > 1000}"
   ]
  },
  {
   "cell_type": "code",
   "execution_count": null,
   "metadata": {},
   "outputs": [],
   "source": [
    "len(filtered_dict)"
   ]
  },
  {
   "cell_type": "code",
   "execution_count": null,
   "metadata": {},
   "outputs": [],
   "source": [
    "# Convert the word frequencies to a format suitable for WordCloud\n",
    "wordcloud = WordCloud(width=800, height=400, background_color='white').generate_from_frequencies(filtered_dict)\n",
    "\n",
    "# Display the WordCloud using matplotlib\n",
    "plt.figure(figsize=(10, 5))\n",
    "plt.imshow(wordcloud, interpolation='bilinear')\n",
    "plt.axis('off')\n",
    "plt.show()\n",
    "\n",
    "# Create a bar chart with word frequencies\n",
    "# Convert word_frequencies to lists\n",
    "unique_words = list(word_frequencies.keys())\n",
    "counts = list(word_frequencies.values())\n",
    "\n",
    "# Sort by frequency in descending order\n",
    "sorted_indices = sorted(range(len(counts)), key=lambda k: counts[k], reverse=True)\n",
    "unique_words_sorted = [unique_words[i] for i in sorted_indices]\n",
    "counts_sorted = [counts[i] for i in sorted_indices]\n",
    "\n",
    "# Plot the bar chart\n",
    "plt.figure(figsize=(12, 6))\n",
    "plt.bar(unique_words_sorted, counts_sorted, color='skyblue')\n",
    "plt.title('Word Frequencies')\n",
    "plt.xlabel('Words')\n",
    "plt.ylabel('Frequency')\n",
    "plt.xticks(rotation=45, ha='right')  # Rotate x-axis labels for better readability\n",
    "plt.show()\n",
    "\n",
    "# Stop the Spark session\n",
    "spark.stop()\n"
   ]
  },
  {
   "cell_type": "code",
   "execution_count": null,
   "metadata": {},
   "outputs": [],
   "source": []
  }
 ],
 "metadata": {
  "kernelspec": {
   "display_name": "base",
   "language": "python",
   "name": "python3"
  },
  "language_info": {
   "codemirror_mode": {
    "name": "ipython",
    "version": 3
   },
   "file_extension": ".py",
   "mimetype": "text/x-python",
   "name": "python",
   "nbconvert_exporter": "python",
   "pygments_lexer": "ipython3",
   "version": "3.11.5"
  }
 },
 "nbformat": 4,
 "nbformat_minor": 2
}
